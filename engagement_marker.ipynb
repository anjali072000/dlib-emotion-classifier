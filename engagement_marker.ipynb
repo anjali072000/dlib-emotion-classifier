{
 "cells": [
  {
   "cell_type": "code",
   "execution_count": null,
   "metadata": {},
   "outputs": [],
   "source": [
    "import cv2\n",
    "import dlib\n",
    "import numpy as np\n",
    "from keras.preprocessing import image\n",
    "from sklearn.metrics import euclidean_distances\n",
    "from keras.models import load_model\n",
    "import matplotlib.pyplot as plt\n",
    "import tensorflow as tf"
   ]
  },
  {
   "cell_type": "code",
   "execution_count": null,
   "metadata": {},
   "outputs": [],
   "source": [
    "model = load_model(\"model_landmark.h5\")\n",
    "\n",
    "detector = dlib.get_frontal_face_detector()\n",
    "predictor = dlib.shape_predictor('./shape_predictor_68_face_landmarks.dat')"
   ]
  },
  {
   "cell_type": "code",
   "execution_count": null,
   "metadata": {},
   "outputs": [],
   "source": [
    "labels_class = ['confused', 'engaged',\n",
    "                'frustrated', 'Lookingaway', 'bored', 'drowsy']"
   ]
  },
  {
   "cell_type": "code",
   "execution_count": null,
   "metadata": {},
   "outputs": [],
   "source": [
    "test_img = cv2.imread('./test/test.jpg')"
   ]
  },
  {
   "cell_type": "code",
   "execution_count": null,
   "metadata": {},
   "outputs": [],
   "source": [
    "img = cv2.cvtColor(test_img, cv2.COLOR_BGR2RGB)\n",
    "gray_img = cv2.cvtColor(test_img, cv2.COLOR_BGR2GRAY)"
   ]
  },
  {
   "cell_type": "code",
   "execution_count": null,
   "metadata": {},
   "outputs": [],
   "source": [
    "rects = detector(gray_img, 1)\n",
    "\n",
    "for rect in rects:\n",
    "        X = []\n",
    "        shape = predictor(gray_img, rects[0])\n",
    "\n",
    "        shape_np = np.zeros((68, 2), dtype=\"int\")\n",
    "\n",
    "        for i in range(0, 68):\n",
    "            shape_np[i] = (shape.part(i).x, shape.part(i).y)\n",
    "        shape = shape_np\n",
    "\n",
    "        eucl_dist = euclidean_distances(shape, shape)\n",
    "        X.append(eucl_dist)\n",
    "\n",
    "        X = np.array(X)\n",
    "\n",
    "        X_train = tf.expand_dims(X, axis=-1)\n",
    "\n",
    "        predictions = model.predict(X_train)\n",
    "        print(predictions)\n",
    "\n",
    "        # Display the landmarks\n",
    "        for i, (x, y) in enumerate(shape):\n",
    "            # Draw the circle to mark the keypoint\n",
    "            cv2.circle(test_img, (x, y), 1, (0, 0, 0), -1)\n",
    "\n",
    "        cv2.putText(test_img, labels_class[np.argmax(predictions)] + \" \" + str(round(predictions[0][np.argmax(\n",
    "            predictions)] * 100, 2)), (0, 50), cv2.FONT_HERSHEY_SIMPLEX, 1, (0, 0, 255), 2)\n",
    "        print(\"Predicted state: \", labels_class[np.argmax(predictions)])\n",
    "\n",
    "        x = rect.left()\n",
    "        y = rect.top()\n",
    "        w = rect.right() - x\n",
    "        h = rect.bottom() - y\n",
    "\n",
    "        if (labels_class[np.argmax(predictions)] == \"confused\" or labels_class[np.argmax(predictions)] == \"engaged\" or labels_class[np.argmax(predictions)] == \"frustrated\"):\n",
    "\n",
    "            # draw box over face\n",
    "            cv2.rectangle(test_img, (x, y), (x+w, y+h), (0, 255, 0), 2)\n",
    "\n",
    "        else:\n",
    "\n",
    "            # draw box over face\n",
    "            cv2.rectangle(test_img, (x, y), (x+w, y+h), (0, 0, 255), 2)"
   ]
  },
  {
   "cell_type": "code",
   "execution_count": null,
   "metadata": {},
   "outputs": [],
   "source": [
    "plt.imshow(test_img)"
   ]
  }
 ],
 "metadata": {
  "kernelspec": {
   "display_name": "Python 3.8.6 64-bit",
   "language": "python",
   "name": "python3"
  },
  "language_info": {
   "name": "python",
   "version": "3.8.6"
  },
  "orig_nbformat": 4,
  "vscode": {
   "interpreter": {
    "hash": "ff9db6032680a9186e25d534ad7bf31d811c4189ec0c430e84c175dca2f4f4b9"
   }
  }
 },
 "nbformat": 4,
 "nbformat_minor": 2
}
