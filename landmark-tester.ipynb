{
 "cells": [
  {
   "cell_type": "code",
   "execution_count": 2,
   "metadata": {},
   "outputs": [],
   "source": [
    "import cv2\n",
    "import dlib\n",
    "import numpy as np\n",
    "import time"
   ]
  },
  {
   "cell_type": "code",
   "execution_count": 3,
   "metadata": {},
   "outputs": [],
   "source": [
    "# used to record the time when we processed last frame\n",
    "prev_frame_time = 0\n",
    "\n",
    "# used to record the time at which we processed current frame\n",
    "new_frame_time = 0"
   ]
  },
  {
   "cell_type": "code",
   "execution_count": 4,
   "metadata": {},
   "outputs": [],
   "source": [
    "detector = dlib.get_frontal_face_detector()\n",
    "predictor = dlib.shape_predictor('./shape_predictor_68_face_landmarks.dat')"
   ]
  },
  {
   "cell_type": "code",
   "execution_count": 5,
   "metadata": {},
   "outputs": [],
   "source": [
    "face_haar_cascade = cv2.CascadeClassifier(\n",
    "    cv2.data.haarcascades + 'haarcascade_frontalface_default.xml')"
   ]
  },
  {
   "cell_type": "code",
   "execution_count": 6,
   "metadata": {},
   "outputs": [],
   "source": [
    "cap = cv2.VideoCapture(0)"
   ]
  },
  {
   "cell_type": "code",
   "execution_count": 7,
   "metadata": {},
   "outputs": [
    {
     "data": {
      "text/plain": [
       "<function destroyAllWindows>"
      ]
     },
     "execution_count": 7,
     "metadata": {},
     "output_type": "execute_result"
    },
    {
     "ename": "",
     "evalue": "",
     "output_type": "error",
     "traceback": [
      "\u001b[1;31mThe Kernel crashed while executing code in the the current cell or a previous cell. Please review the code in the cell(s) to identify a possible cause of the failure. Click <a href='https://aka.ms/vscodeJupyterKernelCrash'>here</a> for more info. View Jupyter <a href='command:jupyter.viewOutput'>log</a> for further details."
     ]
    }
   ],
   "source": [
    "while True:\n",
    "    ret, test_img = cap.read()\n",
    "    if not ret:\n",
    "        continue\n",
    "    img = cv2.cvtColor(test_img, cv2.COLOR_BGR2RGB)\n",
    "    gray_img = cv2.cvtColor(test_img, cv2.COLOR_BGR2GRAY)\n",
    "\n",
    "    faces = face_haar_cascade.detectMultiScale(gray_img, 1.3, 5)\n",
    "    # rects = detector(gray_img, 1) \n",
    "\n",
    "    # for rect in rects:\n",
    "        # shape = predictor(gray_img, rect)\n",
    "    for (x,y,w,h) in faces:\n",
    "        shape = predictor(gray_img, dlib.rectangle(x,y,x+w,y+h))\n",
    "        shape_np = np.zeros((68, 2), dtype=\"int\")\n",
    "\n",
    "        for i in range(0, 68):\n",
    "            shape_np[i] = (shape.part(i).x, shape.part(i).y)\n",
    "        shape = shape_np\n",
    "\n",
    "        for i, (x, y) in enumerate(shape):\n",
    "            # Draw the circle to mark the keypoint\n",
    "            cv2.circle(img, (x, y), 5, (255, 0, 0), -1)\n",
    "\n",
    "\n",
    "    # time when we finish processing for this frame\n",
    "    new_frame_time = time.time()\n",
    "\n",
    "    # Calculating the fps\n",
    "\n",
    "    # fps will be number of frame processed in given time frame\n",
    "    # since their will be most of time error of 0.001 second\n",
    "    # we will be subtracting it to get more accurate result\n",
    "    fps = 1/(new_frame_time-prev_frame_time)\n",
    "    prev_frame_time = new_frame_time\n",
    "\n",
    "    # converting the fps into integer\n",
    "    fps = int(fps)\n",
    "\n",
    "    # converting the fps to string so that we can display it on frame\n",
    "    # by using putText function\n",
    "    fps = str(fps)\n",
    "\n",
    "    # putting the FPS count on the frame\n",
    "    cv2.putText(test_img, \"FPS: \" + fps, (0, 25), cv2.FONT_HERSHEY_SIMPLEX,\n",
    "                1, (100, 255, 0), 1, cv2.LINE_AA)\n",
    "    resized_img = cv2.resize(test_img, (1000, 700))\n",
    "    cv2.imshow('Facial emotion analysis ', resized_img)\n",
    "\n",
    "    if cv2.waitKey(10) == ord('q'):  # wait until 'q' key is pressed\n",
    "        break\n",
    "\n",
    "cap.release()\n",
    "cv2.destroyAllWindows"
   ]
  }
 ],
 "metadata": {
  "kernelspec": {
   "display_name": "Python 3.8.6 64-bit",
   "language": "python",
   "name": "python3"
  },
  "language_info": {
   "codemirror_mode": {
    "name": "ipython",
    "version": 3
   },
   "file_extension": ".py",
   "mimetype": "text/x-python",
   "name": "python",
   "nbconvert_exporter": "python",
   "pygments_lexer": "ipython3",
   "version": "3.8.6"
  },
  "orig_nbformat": 4,
  "vscode": {
   "interpreter": {
    "hash": "ff9db6032680a9186e25d534ad7bf31d811c4189ec0c430e84c175dca2f4f4b9"
   }
  }
 },
 "nbformat": 4,
 "nbformat_minor": 2
}
